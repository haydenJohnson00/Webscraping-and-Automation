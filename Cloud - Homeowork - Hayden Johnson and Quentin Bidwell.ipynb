{
 "cells": [
  {
   "cell_type": "markdown",
   "id": "78454cce",
   "metadata": {},
   "source": [
    "# Hayden Johnson and Quentin Bidwell"
   ]
  },
  {
   "cell_type": "markdown",
   "id": "50b42fc2",
   "metadata": {
    "id": "50b42fc2"
   },
   "source": [
    "# Project 1.) First Cloud Function"
   ]
  },
  {
   "cell_type": "markdown",
   "id": "e047b110",
   "metadata": {
    "id": "e047b110"
   },
   "source": [
    "### Description : Post a cloud function that takes in a string of numbers and returns a json file that contains the the sum of all of the single digit numbers"
   ]
  },
  {
   "cell_type": "markdown",
   "id": "187f1ddd",
   "metadata": {
    "id": "187f1ddd"
   },
   "source": [
    "#### Example : input =\"12345\"\n",
    "#### output = 1+2+3+4+5 = 15\n",
    "#### returns({\"answer\":15})"
   ]
  },
  {
   "cell_type": "code",
   "execution_count": 1,
   "id": "PbzET54WTlvN",
   "metadata": {
    "id": "PbzET54WTlvN"
   },
   "outputs": [],
   "source": [
    "import requests\n",
    "import json"
   ]
  },
  {
   "cell_type": "code",
   "execution_count": 101,
   "id": "Jp2-_riMTnPq",
   "metadata": {
    "id": "Jp2-_riMTnPq"
   },
   "outputs": [],
   "source": [
    "url = 'https://us-west2-annreturn.cloudfunctions.net/firstCloudFunction'"
   ]
  },
  {
   "cell_type": "code",
   "execution_count": null,
   "id": "7591a6e4",
   "metadata": {
    "id": "7591a6e4"
   },
   "outputs": [],
   "source": [
    "def firstCloudFunction(nums):\n",
    "  #nums = nums.get_data().decode()\n",
    "  lst = []\n",
    "  for num in nums:\n",
    "    lst.append(int(num))\n",
    "  lstSum = sum(lst)\n",
    "  answer = {'total' : lstSum}\n",
    "  return answer"
   ]
  },
  {
   "cell_type": "code",
   "execution_count": null,
   "id": "8mXOqyGESBWJ",
   "metadata": {
    "colab": {
     "base_uri": "https://localhost:8080/"
    },
    "id": "8mXOqyGESBWJ",
    "outputId": "6b450d20-2dae-41f6-adb4-ee5a91bd858a"
   },
   "outputs": [
    {
     "data": {
      "text/plain": [
       "{'total': 32}"
      ]
     },
     "execution_count": 4,
     "metadata": {},
     "output_type": "execute_result"
    }
   ],
   "source": [
    "firstCloudFunction('8888')"
   ]
  },
  {
   "cell_type": "code",
   "execution_count": 99,
   "id": "Y4X85tjnVxKE",
   "metadata": {
    "colab": {
     "base_uri": "https://localhost:8080/"
    },
    "id": "Y4X85tjnVxKE",
    "outputId": "86fd3bb7-5fde-4fac-8062-f906f357c654"
   },
   "outputs": [
    {
     "name": "stdout",
     "output_type": "stream",
     "text": [
      "requests2.27.1\n",
      "session_info1.0.0\n"
     ]
    }
   ],
   "source": [
    "packages = \"\"\"requests            2.27.1\n",
    "session_info        1.0.0\"\"\"\n",
    "print(packages.replace(\" \",\"\"))"
   ]
  },
  {
   "cell_type": "code",
   "execution_count": 108,
   "id": "A2zw_IpHWVDP",
   "metadata": {
    "colab": {
     "base_uri": "https://localhost:8080/"
    },
    "id": "A2zw_IpHWVDP",
    "outputId": "60d69226-066a-43a9-c937-1f75d1c1b782"
   },
   "outputs": [
    {
     "name": "stdout",
     "output_type": "stream",
     "text": [
      "15\n"
     ]
    }
   ],
   "source": [
    "r = requests.post(url, \"12345\")\n",
    "json_data = r.json()\n",
    "total = json_data[\"total\"]\n",
    "\n",
    "print(total)"
   ]
  },
  {
   "cell_type": "markdown",
   "id": "419394c4",
   "metadata": {
    "id": "419394c4"
   },
   "source": [
    "## 1.b.) Query your cloud function using requests for example input \"012937\", \"2\" and \"9999999999999\""
   ]
  },
  {
   "cell_type": "code",
   "execution_count": 208,
   "id": "1e139200",
   "metadata": {
    "colab": {
     "base_uri": "https://localhost:8080/"
    },
    "id": "1e139200",
    "outputId": "45c0d898-b30b-4cf8-f04e-ba0c7d209150"
   },
   "outputs": [
    {
     "name": "stdout",
     "output_type": "stream",
     "text": [
      "Input: 012937, Total: 22\n",
      "Input: 2, Total: 2\n",
      "Input: 9999999999999, Total: 117\n"
     ]
    }
   ],
   "source": [
    "def queryAdd(inputs):\n",
    "    for input_data in inputs:\n",
    "      url = 'https://us-west2-annreturn.cloudfunctions.net/firstCloudFunction'\n",
    "      response = requests.post(url, data=input_data)\n",
    "      json_data = response.json()\n",
    "      total = json_data[\"total\"]\n",
    "      print(f\"Input: {input_data}, Total: {total}\")\n",
    "\n",
    "inputs = [\"012937\", \"2\", \"9999999999999\"]\n",
    "\n",
    "queryAdd(inputs)\n"
   ]
  },
  {
   "cell_type": "code",
   "execution_count": null,
   "id": "203d827a",
   "metadata": {
    "id": "203d827a"
   },
   "outputs": [],
   "source": []
  },
  {
   "cell_type": "markdown",
   "id": "97a4a8bd",
   "metadata": {
    "id": "97a4a8bd"
   },
   "source": [
    "# Project 2.) Automated Webscraping"
   ]
  },
  {
   "cell_type": "markdown",
   "id": "d1d15867",
   "metadata": {
    "id": "d1d15867"
   },
   "source": [
    "### Description : Find a website that is scrapable with Beautiful soup that updates with some frequency. Build a cloud function to programatically scrape the useful content"
   ]
  },
  {
   "cell_type": "code",
   "execution_count": 2,
   "id": "SsR97beReg9c",
   "metadata": {
    "id": "SsR97beReg9c"
   },
   "outputs": [],
   "source": [
    "from bs4 import BeautifulSoup\n",
    "import pandas as pd\n",
    "from google.cloud import storage\n",
    "import os\n",
    "from io import StringIO\n",
    "os.environ['GOOGLE_APPLICATION_CREDENTIALS'] = 'annreturn-f1d9154873aa.json'\n"
   ]
  },
  {
   "cell_type": "code",
   "execution_count": 8,
   "id": "6dXCon80fXwM",
   "metadata": {
    "id": "6dXCon80fXwM"
   },
   "outputs": [],
   "source": [
    "# We talk about user agents later so run and ignore\n",
    "user_agent_list = [\"Mozilla/5.0 (Windows NT 10.0; Win64; x64) AppleWebKit/537.36 (KHTML, like Gecko) Chrome/42.0.2311.135 Safari/537.36 Edge/12.246\" \n",
    ",\"Mozilla/5.0 (Windows NT 6.1; WOW64) AppleWebKit/537.36 (KHTML, like Gecko) Chrome/47.0.2526.111 Safari/537.36 \"\n",
    ",\"Mozilla/5.0 (Macintosh; Intel Mac OS X 10_11_2) AppleWebKit/601.3.9 (KHTML, like Gecko) Version/9.0.2 Safari/601.3.9 \"\n",
    ",\"Mozilla/5.0 (X11; Ubuntu; Linux x86_64; rv:15.0) Gecko/20100101 Firefox/15.0.1\" \n",
    ",\"Mozilla/5.0 (X11; CrOS x86_64 8172.45.0) AppleWebKit/537.36 (KHTML, like Gecko) Chrome/51.0.2704.64 Safari/537.36\"] \n",
    "\n",
    "headers = {\n",
    "    'User-Agent': user_agent_list[2]}"
   ]
  },
  {
   "cell_type": "code",
   "execution_count": 15,
   "id": "54324bc0",
   "metadata": {
    "id": "54324bc0"
   },
   "outputs": [],
   "source": [
    "def golfScraper():\n",
    "    u = 'https://www.espn.com/golf/leaderboard'\n",
    "    headers = {\n",
    "        'User-Agent' : 'Mozilla/5.0 (Macintosh; Intel Mac OS X 10_11_2) AppleWebKit/601.3.9 (KHTML, like Gecko) Version/9.0.2 Safari/601.3.9'}\n",
    "    page = requests.get(u, headers = headers)\n",
    "    soup = BeautifulSoup(page.content, \"html.parser\")\n",
    "    \n",
    "    golfers = []\n",
    "    for a in soup.findAll('a', class_='AnchorLink leaderboard_player_name'):\n",
    "      golfers.append(a.get_text(strip=True))\n",
    "\n",
    "    winnings = []\n",
    "    for a in soup.findAll('td', class_='Table__TD'):\n",
    "      if '$' in a.get_text():\n",
    "        winnings.append(a.get_text(strip=True))\n",
    "    \n",
    "    max_length = max(len(golfers), len(winnings))\n",
    "    winnings += ['-'] * (max_length - len(winnings))\n",
    "    \n",
    "    data = {'Golfers': golfers, 'Winnings': winnings}\n",
    "    df = pd.DataFrame(data)\n",
    "    df.index.name = 'Position'\n",
    "    df.index += 1\n",
    "    return(df)"
   ]
  },
  {
   "cell_type": "code",
   "execution_count": 210,
   "id": "Je_Ez_Ober0x",
   "metadata": {
    "colab": {
     "base_uri": "https://localhost:8080/",
     "height": 455
    },
    "id": "Je_Ez_Ober0x",
    "outputId": "7553d18d-cc62-4d2e-92b6-f7127f54e511"
   },
   "outputs": [
    {
     "data": {
      "text/html": [
       "<div>\n",
       "<style scoped>\n",
       "    .dataframe tbody tr th:only-of-type {\n",
       "        vertical-align: middle;\n",
       "    }\n",
       "\n",
       "    .dataframe tbody tr th {\n",
       "        vertical-align: top;\n",
       "    }\n",
       "\n",
       "    .dataframe thead th {\n",
       "        text-align: right;\n",
       "    }\n",
       "</style>\n",
       "<table border=\"1\" class=\"dataframe\">\n",
       "  <thead>\n",
       "    <tr style=\"text-align: right;\">\n",
       "      <th></th>\n",
       "      <th>Golfers</th>\n",
       "      <th>Winnings</th>\n",
       "    </tr>\n",
       "    <tr>\n",
       "      <th>Position</th>\n",
       "      <th></th>\n",
       "      <th></th>\n",
       "    </tr>\n",
       "  </thead>\n",
       "  <tbody>\n",
       "    <tr>\n",
       "      <th>1</th>\n",
       "      <td>Danny Willett</td>\n",
       "      <td>-</td>\n",
       "    </tr>\n",
       "    <tr>\n",
       "      <th>2</th>\n",
       "      <td>Peter Malnati</td>\n",
       "      <td>-</td>\n",
       "    </tr>\n",
       "    <tr>\n",
       "      <th>3</th>\n",
       "      <td>Robby Shelton</td>\n",
       "      <td>-</td>\n",
       "    </tr>\n",
       "    <tr>\n",
       "      <th>4</th>\n",
       "      <td>Davis Thompson</td>\n",
       "      <td>-</td>\n",
       "    </tr>\n",
       "    <tr>\n",
       "      <th>5</th>\n",
       "      <td>Beau Hossler</td>\n",
       "      <td>-</td>\n",
       "    </tr>\n",
       "    <tr>\n",
       "      <th>...</th>\n",
       "      <td>...</td>\n",
       "      <td>...</td>\n",
       "    </tr>\n",
       "    <tr>\n",
       "      <th>116</th>\n",
       "      <td>Kazuki Higa</td>\n",
       "      <td>-</td>\n",
       "    </tr>\n",
       "    <tr>\n",
       "      <th>117</th>\n",
       "      <td>Thriston Lawrence</td>\n",
       "      <td>-</td>\n",
       "    </tr>\n",
       "    <tr>\n",
       "      <th>118</th>\n",
       "      <td>Nicolai Højgaard</td>\n",
       "      <td>-</td>\n",
       "    </tr>\n",
       "    <tr>\n",
       "      <th>119</th>\n",
       "      <td>Aldrich Potgieter (a)</td>\n",
       "      <td>-</td>\n",
       "    </tr>\n",
       "    <tr>\n",
       "      <th>120</th>\n",
       "      <td>MJ Daffue</td>\n",
       "      <td>-</td>\n",
       "    </tr>\n",
       "  </tbody>\n",
       "</table>\n",
       "<p>120 rows × 2 columns</p>\n",
       "</div>"
      ],
      "text/plain": [
       "                        Golfers Winnings\n",
       "Position                                \n",
       "1                 Danny Willett        -\n",
       "2                 Peter Malnati        -\n",
       "3                 Robby Shelton        -\n",
       "4                Davis Thompson        -\n",
       "5                  Beau Hossler        -\n",
       "...                         ...      ...\n",
       "116                 Kazuki Higa        -\n",
       "117           Thriston Lawrence        -\n",
       "118            Nicolai Højgaard        -\n",
       "119       Aldrich Potgieter (a)        -\n",
       "120                   MJ Daffue        -\n",
       "\n",
       "[120 rows x 2 columns]"
      ]
     },
     "execution_count": 210,
     "metadata": {},
     "output_type": "execute_result"
    }
   ],
   "source": [
    "golfScraper()"
   ]
  },
  {
   "cell_type": "markdown",
   "id": "504f3088",
   "metadata": {
    "id": "504f3088"
   },
   "source": [
    "## 2.b.) Query your stored files"
   ]
  },
  {
   "cell_type": "code",
   "execution_count": 8,
   "id": "5dd4794b",
   "metadata": {},
   "outputs": [],
   "source": [
    "urlActual = 'https://us-west2-annreturn.cloudfunctions.net/webScrapeGolf'"
   ]
  },
  {
   "cell_type": "code",
   "execution_count": 9,
   "id": "1cKcNNJWcMKL",
   "metadata": {
    "id": "1cKcNNJWcMKL"
   },
   "outputs": [],
   "source": [
    "client = storage.Client()"
   ]
  },
  {
   "cell_type": "code",
   "execution_count": 57,
   "id": "dTkZ9rEHcSOp",
   "metadata": {
    "id": "dTkZ9rEHcSOp"
   },
   "outputs": [],
   "source": [
    "bucketName = 'webscrapingolf'\n",
    "bucket = client.get_bucket(bucketName)"
   ]
  },
  {
   "cell_type": "code",
   "execution_count": 58,
   "id": "PFLhMIiUlbVW",
   "metadata": {
    "id": "PFLhMIiUlbVW"
   },
   "outputs": [],
   "source": [
    "df = pd.DataFrame()\n",
    "df.to_csv('golfScraped.csv')"
   ]
  },
  {
   "cell_type": "code",
   "execution_count": 59,
   "id": "RreGNTBmlbL3",
   "metadata": {
    "id": "RreGNTBmlbL3"
   },
   "outputs": [],
   "source": [
    "#File path on cloud\n",
    "blob = bucket.blob('webscraped/golf.csv')"
   ]
  },
  {
   "cell_type": "code",
   "execution_count": 32,
   "id": "uvv46mkFlbCI",
   "metadata": {
    "id": "uvv46mkFlbCI"
   },
   "outputs": [],
   "source": [
    "#File path on local computer\n",
    "blob.upload_from_filename('golfScraped.csv')"
   ]
  },
  {
   "cell_type": "code",
   "execution_count": 10,
   "id": "ic491jSAlasz",
   "metadata": {
    "id": "ic491jSAlasz"
   },
   "outputs": [],
   "source": [
    "#Take the data that is already on the cloud\n",
    "def download_data():\n",
    "    os.environ['GOOGLE_APPLICATION_CREDENTIALS'] = 'annreturn-f1d9154873aa.json'\n",
    "    \n",
    "    client = storage.Client()\n",
    "    bucketName = 'webscrapingolf'\n",
    "    bucket = client.get_bucket(bucketName)\n",
    "    \n",
    "    blob = bucket.blob('webscraped/golf.csv')\n",
    "    \n",
    "    csv_data = blob.download_as_text()\n",
    "    \n",
    "    df = pd.read_csv(StringIO(csv_data))\n",
    "    \n",
    "    return df"
   ]
  },
  {
   "cell_type": "code",
   "execution_count": 11,
   "id": "16a5537c",
   "metadata": {},
   "outputs": [
    {
     "data": {
      "text/html": [
       "<div>\n",
       "<style scoped>\n",
       "    .dataframe tbody tr th:only-of-type {\n",
       "        vertical-align: middle;\n",
       "    }\n",
       "\n",
       "    .dataframe tbody tr th {\n",
       "        vertical-align: top;\n",
       "    }\n",
       "\n",
       "    .dataframe thead th {\n",
       "        text-align: right;\n",
       "    }\n",
       "</style>\n",
       "<table border=\"1\" class=\"dataframe\">\n",
       "  <thead>\n",
       "    <tr style=\"text-align: right;\">\n",
       "      <th></th>\n",
       "      <th>Golfers</th>\n",
       "      <th>Winnings</th>\n",
       "    </tr>\n",
       "  </thead>\n",
       "  <tbody>\n",
       "    <tr>\n",
       "      <th>0</th>\n",
       "      <td>Danny Willett</td>\n",
       "      <td>-</td>\n",
       "    </tr>\n",
       "    <tr>\n",
       "      <th>1</th>\n",
       "      <td>Peter Malnati</td>\n",
       "      <td>-</td>\n",
       "    </tr>\n",
       "    <tr>\n",
       "      <th>2</th>\n",
       "      <td>Robby Shelton</td>\n",
       "      <td>-</td>\n",
       "    </tr>\n",
       "    <tr>\n",
       "      <th>3</th>\n",
       "      <td>Davis Thompson</td>\n",
       "      <td>-</td>\n",
       "    </tr>\n",
       "    <tr>\n",
       "      <th>4</th>\n",
       "      <td>Beau Hossler</td>\n",
       "      <td>-</td>\n",
       "    </tr>\n",
       "    <tr>\n",
       "      <th>...</th>\n",
       "      <td>...</td>\n",
       "      <td>...</td>\n",
       "    </tr>\n",
       "    <tr>\n",
       "      <th>115</th>\n",
       "      <td>Kazuki Higa</td>\n",
       "      <td>-</td>\n",
       "    </tr>\n",
       "    <tr>\n",
       "      <th>116</th>\n",
       "      <td>Thriston Lawrence</td>\n",
       "      <td>-</td>\n",
       "    </tr>\n",
       "    <tr>\n",
       "      <th>117</th>\n",
       "      <td>Nicolai Højgaard</td>\n",
       "      <td>-</td>\n",
       "    </tr>\n",
       "    <tr>\n",
       "      <th>118</th>\n",
       "      <td>Aldrich Potgieter (a)</td>\n",
       "      <td>-</td>\n",
       "    </tr>\n",
       "    <tr>\n",
       "      <th>119</th>\n",
       "      <td>MJ Daffue</td>\n",
       "      <td>-</td>\n",
       "    </tr>\n",
       "  </tbody>\n",
       "</table>\n",
       "<p>120 rows × 2 columns</p>\n",
       "</div>"
      ],
      "text/plain": [
       "                   Golfers Winnings\n",
       "0            Danny Willett        -\n",
       "1            Peter Malnati        -\n",
       "2            Robby Shelton        -\n",
       "3           Davis Thompson        -\n",
       "4             Beau Hossler        -\n",
       "..                     ...      ...\n",
       "115            Kazuki Higa        -\n",
       "116      Thriston Lawrence        -\n",
       "117       Nicolai Højgaard        -\n",
       "118  Aldrich Potgieter (a)        -\n",
       "119              MJ Daffue        -\n",
       "\n",
       "[120 rows x 2 columns]"
      ]
     },
     "execution_count": 11,
     "metadata": {},
     "output_type": "execute_result"
    }
   ],
   "source": [
    "download_data()"
   ]
  },
  {
   "cell_type": "code",
   "execution_count": 13,
   "id": "674e363c",
   "metadata": {},
   "outputs": [],
   "source": [
    "#Post a new csv on the cloud without storing locally\n",
    "def post_data(request):\n",
    "    \n",
    "    df = golfScraper()\n",
    "    \n",
    "    csv_data = df.to_csv(index = False)\n",
    "    \n",
    "    client = storage.Client()\n",
    "    bucketName = 'webscrapingolf'\n",
    "    bucket = client.get_bucket(bucketName)\n",
    "    \n",
    "    blob = bucket.blob('webscraped/golf.csv')\n",
    "    blob.upload_from_string(csv_data)\n",
    "    \n",
    "    return ({'status': 200,\n",
    "            'length_data': len(df)})"
   ]
  },
  {
   "cell_type": "code",
   "execution_count": 16,
   "id": "01d28ae6",
   "metadata": {},
   "outputs": [
    {
     "data": {
      "text/plain": [
       "{'status': 200, 'length_data': 120}"
      ]
     },
     "execution_count": 16,
     "metadata": {},
     "output_type": "execute_result"
    }
   ],
   "source": [
    "post_data(\"\")"
   ]
  },
  {
   "cell_type": "markdown",
   "id": "3c09bc85",
   "metadata": {},
   "source": [
    "The length of the data does not increase. I could make it increase, but for the purposes of my data it should not. The golf leaderboard will be updated every Monday morning, so you can see the placements of all players for each tournament that weekend."
   ]
  },
  {
   "cell_type": "code",
   "execution_count": 214,
   "id": "b8184dba",
   "metadata": {},
   "outputs": [
    {
     "data": {
      "text/html": [
       "<details>\n",
       "<summary>Click to view session information</summary>\n",
       "<pre>\n",
       "-----\n",
       "bs4                 4.11.1\n",
       "flask               1.1.2\n",
       "google              NA\n",
       "joblib              1.1.0\n",
       "pandas              1.4.2\n",
       "requests            2.27.1\n",
       "session_info        1.0.0\n",
       "sklearn             1.0.2\n",
       "werkzeug            2.0.3\n",
       "-----\n",
       "</pre>\n",
       "<details>\n",
       "<summary>Click to view modules imported as dependencies</summary>\n",
       "<pre>\n",
       "appnope                     0.1.2\n",
       "asttokens                   NA\n",
       "backcall                    0.2.0\n",
       "bcrypt                      3.2.0\n",
       "beta_ufunc                  NA\n",
       "binom_ufunc                 NA\n",
       "blinker                     1.4\n",
       "bottleneck                  1.3.4\n",
       "brotli                      NA\n",
       "cachetools                  4.2.2\n",
       "certifi                     2022.12.07\n",
       "chardet                     4.0.0\n",
       "charset_normalizer          2.0.4\n",
       "click                       8.0.4\n",
       "colorama                    0.4.4\n",
       "cryptography                3.4.8\n",
       "cython_runtime              NA\n",
       "dateutil                    2.8.2\n",
       "debugpy                     1.5.1\n",
       "decorator                   5.1.1\n",
       "executing                   0.8.3\n",
       "greenlet                    1.1.1\n",
       "grpc                        1.42.0\n",
       "html5lib                    1.1\n",
       "idna                        3.3\n",
       "importlib_metadata          NA\n",
       "ipykernel                   6.9.1\n",
       "ipython_genutils            0.2.0\n",
       "itsdangerous                2.0.1\n",
       "jedi                        0.18.1\n",
       "jinja2                      2.11.3\n",
       "jupyter_server              1.13.5\n",
       "lxml                        4.8.0\n",
       "markupsafe                  2.0.1\n",
       "mkl                         2.4.0\n",
       "mpl_toolkits                NA\n",
       "nbinom_ufunc                NA\n",
       "numexpr                     2.8.1\n",
       "numpy                       1.21.5\n",
       "packaging                   21.3\n",
       "parso                       0.8.3\n",
       "pexpect                     4.8.0\n",
       "pickleshare                 0.7.5\n",
       "pkg_resources               NA\n",
       "prompt_toolkit              3.0.20\n",
       "psutil                      5.8.0\n",
       "ptyprocess                  0.7.0\n",
       "pure_eval                   0.2.2\n",
       "pydev_ipython               NA\n",
       "pydevconsole                NA\n",
       "pydevd                      2.6.0\n",
       "pydevd_concurrency_analyser NA\n",
       "pydevd_file_utils           NA\n",
       "pydevd_plugins              NA\n",
       "pydevd_tracing              NA\n",
       "pygments                    2.11.2\n",
       "pytz                        2022.7\n",
       "ruamel                      NA\n",
       "scipy                       1.7.3\n",
       "setuptools                  61.2.0\n",
       "six                         1.16.0\n",
       "socks                       1.7.1\n",
       "soupsieve                   2.3.1\n",
       "sphinxcontrib               NA\n",
       "stack_data                  0.2.0\n",
       "threadpoolctl               2.2.0\n",
       "tornado                     6.1\n",
       "traitlets                   5.1.1\n",
       "typing_extensions           NA\n",
       "urllib3                     1.26.9\n",
       "wcwidth                     0.2.5\n",
       "webencodings                0.5.1\n",
       "zipp                        NA\n",
       "zmq                         22.3.0\n",
       "zope                        NA\n",
       "</pre>\n",
       "</details> <!-- seems like this ends pre, so might as well be explicit -->\n",
       "<pre>\n",
       "-----\n",
       "IPython             8.2.0\n",
       "jupyter_client      6.1.12\n",
       "jupyter_core        4.9.2\n",
       "jupyterlab          3.3.2\n",
       "notebook            6.4.8\n",
       "-----\n",
       "Python 3.9.12 (main, Apr  5 2022, 01:53:17) [Clang 12.0.0 ]\n",
       "macOS-10.16-x86_64-i386-64bit\n",
       "-----\n",
       "Session information updated at 2023-05-31 09:00\n",
       "</pre>\n",
       "</details>"
      ],
      "text/plain": [
       "<IPython.core.display.HTML object>"
      ]
     },
     "execution_count": 214,
     "metadata": {},
     "output_type": "execute_result"
    }
   ],
   "source": [
    "import session_info## 2.b.) Query your stored files\n",
    "session_info.show()"
   ]
  },
  {
   "cell_type": "markdown",
   "id": "368798b0",
   "metadata": {
    "id": "368798b0"
   },
   "source": [
    "## 2.c.) State how this could be useful in a business setting"
   ]
  },
  {
   "cell_type": "markdown",
   "id": "BjJ1vU3unh1u",
   "metadata": {
    "id": "BjJ1vU3unh1u"
   },
   "source": [
    "You can track who won each tournament over the weekend on the PGA tour. This allows you to keep track of who the best golfers are and which ones are struggling based off their purse. You could then strategically make an advertisement offer to struggling golfers and get the advertisement relatively cheap since those golfers would be easier to swoon. The golfers winning a lot would need a stronger offer, but you know your advertisement would be seen on camera, which could be worth more than a cheap advertisement."
   ]
  },
  {
   "cell_type": "markdown",
   "id": "0ad1706f",
   "metadata": {
    "id": "0ad1706f"
   },
   "source": [
    "# Project 3.) "
   ]
  },
  {
   "cell_type": "markdown",
   "id": "ad99a208",
   "metadata": {
    "id": "ad99a208"
   },
   "source": [
    "### Description : Build some machine learning model using scikit learn and make it queriable using cloud functions"
   ]
  },
  {
   "cell_type": "code",
   "execution_count": 3,
   "id": "c163349c",
   "metadata": {},
   "outputs": [],
   "source": [
    "from sklearn.neural_network import MLPClassifier\n",
    "from sklearn.datasets import load_iris\n",
    "from sklearn.model_selection import train_test_split\n",
    "from sklearn.preprocessing import StandardScaler\n",
    "from sklearn.metrics import accuracy_score\n",
    "from urllib.parse import parse_qs\n",
    "import joblib\n",
    "from io import BytesIO "
   ]
  },
  {
   "cell_type": "code",
   "execution_count": 152,
   "id": "eff0a16c",
   "metadata": {},
   "outputs": [
    {
     "data": {
      "text/html": [
       "<div>\n",
       "<style scoped>\n",
       "    .dataframe tbody tr th:only-of-type {\n",
       "        vertical-align: middle;\n",
       "    }\n",
       "\n",
       "    .dataframe tbody tr th {\n",
       "        vertical-align: top;\n",
       "    }\n",
       "\n",
       "    .dataframe thead th {\n",
       "        text-align: right;\n",
       "    }\n",
       "</style>\n",
       "<table border=\"1\" class=\"dataframe\">\n",
       "  <thead>\n",
       "    <tr style=\"text-align: right;\">\n",
       "      <th></th>\n",
       "      <th>long_hair</th>\n",
       "      <th>forehead_width_cm</th>\n",
       "      <th>forehead_height_cm</th>\n",
       "      <th>nose_wide</th>\n",
       "      <th>nose_long</th>\n",
       "      <th>lips_thin</th>\n",
       "      <th>distance_nose_to_lip_long</th>\n",
       "      <th>gender</th>\n",
       "    </tr>\n",
       "  </thead>\n",
       "  <tbody>\n",
       "    <tr>\n",
       "      <th>0</th>\n",
       "      <td>1</td>\n",
       "      <td>11.8</td>\n",
       "      <td>6.1</td>\n",
       "      <td>1</td>\n",
       "      <td>0</td>\n",
       "      <td>1</td>\n",
       "      <td>1</td>\n",
       "      <td>Male</td>\n",
       "    </tr>\n",
       "    <tr>\n",
       "      <th>1</th>\n",
       "      <td>0</td>\n",
       "      <td>14.0</td>\n",
       "      <td>5.4</td>\n",
       "      <td>0</td>\n",
       "      <td>0</td>\n",
       "      <td>1</td>\n",
       "      <td>0</td>\n",
       "      <td>Female</td>\n",
       "    </tr>\n",
       "    <tr>\n",
       "      <th>2</th>\n",
       "      <td>0</td>\n",
       "      <td>11.8</td>\n",
       "      <td>6.3</td>\n",
       "      <td>1</td>\n",
       "      <td>1</td>\n",
       "      <td>1</td>\n",
       "      <td>1</td>\n",
       "      <td>Male</td>\n",
       "    </tr>\n",
       "    <tr>\n",
       "      <th>3</th>\n",
       "      <td>0</td>\n",
       "      <td>14.4</td>\n",
       "      <td>6.1</td>\n",
       "      <td>0</td>\n",
       "      <td>1</td>\n",
       "      <td>1</td>\n",
       "      <td>1</td>\n",
       "      <td>Male</td>\n",
       "    </tr>\n",
       "    <tr>\n",
       "      <th>4</th>\n",
       "      <td>1</td>\n",
       "      <td>13.5</td>\n",
       "      <td>5.9</td>\n",
       "      <td>0</td>\n",
       "      <td>0</td>\n",
       "      <td>0</td>\n",
       "      <td>0</td>\n",
       "      <td>Female</td>\n",
       "    </tr>\n",
       "  </tbody>\n",
       "</table>\n",
       "</div>"
      ],
      "text/plain": [
       "   long_hair  forehead_width_cm  forehead_height_cm  nose_wide  nose_long  \\\n",
       "0          1               11.8                 6.1          1          0   \n",
       "1          0               14.0                 5.4          0          0   \n",
       "2          0               11.8                 6.3          1          1   \n",
       "3          0               14.4                 6.1          0          1   \n",
       "4          1               13.5                 5.9          0          0   \n",
       "\n",
       "   lips_thin  distance_nose_to_lip_long  gender  \n",
       "0          1                          1    Male  \n",
       "1          1                          0  Female  \n",
       "2          1                          1    Male  \n",
       "3          1                          1    Male  \n",
       "4          0                          0  Female  "
      ]
     },
     "execution_count": 152,
     "metadata": {},
     "output_type": "execute_result"
    }
   ],
   "source": [
    "gender = pd.read_csv(\"gender_classification_v7.csv\")\n",
    "gender.head()"
   ]
  },
  {
   "cell_type": "code",
   "execution_count": 153,
   "id": "c07fcb66",
   "metadata": {},
   "outputs": [],
   "source": [
    "X = gender[[\"long_hair\",\"forehead_width_cm\",\"forehead_height_cm\",\n",
    "                        \"nose_wide\", \"nose_long\", \"lips_thin\", \"distance_nose_to_lip_long\"]]"
   ]
  },
  {
   "cell_type": "code",
   "execution_count": 154,
   "id": "43e72d73",
   "metadata": {},
   "outputs": [
    {
     "data": {
      "text/html": [
       "<div>\n",
       "<style scoped>\n",
       "    .dataframe tbody tr th:only-of-type {\n",
       "        vertical-align: middle;\n",
       "    }\n",
       "\n",
       "    .dataframe tbody tr th {\n",
       "        vertical-align: top;\n",
       "    }\n",
       "\n",
       "    .dataframe thead th {\n",
       "        text-align: right;\n",
       "    }\n",
       "</style>\n",
       "<table border=\"1\" class=\"dataframe\">\n",
       "  <thead>\n",
       "    <tr style=\"text-align: right;\">\n",
       "      <th></th>\n",
       "      <th>long_hair</th>\n",
       "      <th>forehead_width_cm</th>\n",
       "      <th>forehead_height_cm</th>\n",
       "      <th>nose_wide</th>\n",
       "      <th>nose_long</th>\n",
       "      <th>lips_thin</th>\n",
       "      <th>distance_nose_to_lip_long</th>\n",
       "      <th>gender</th>\n",
       "      <th>male</th>\n",
       "    </tr>\n",
       "  </thead>\n",
       "  <tbody>\n",
       "    <tr>\n",
       "      <th>0</th>\n",
       "      <td>1</td>\n",
       "      <td>11.8</td>\n",
       "      <td>6.1</td>\n",
       "      <td>1</td>\n",
       "      <td>0</td>\n",
       "      <td>1</td>\n",
       "      <td>1</td>\n",
       "      <td>Male</td>\n",
       "      <td>1</td>\n",
       "    </tr>\n",
       "    <tr>\n",
       "      <th>1</th>\n",
       "      <td>0</td>\n",
       "      <td>14.0</td>\n",
       "      <td>5.4</td>\n",
       "      <td>0</td>\n",
       "      <td>0</td>\n",
       "      <td>1</td>\n",
       "      <td>0</td>\n",
       "      <td>Female</td>\n",
       "      <td>0</td>\n",
       "    </tr>\n",
       "    <tr>\n",
       "      <th>2</th>\n",
       "      <td>0</td>\n",
       "      <td>11.8</td>\n",
       "      <td>6.3</td>\n",
       "      <td>1</td>\n",
       "      <td>1</td>\n",
       "      <td>1</td>\n",
       "      <td>1</td>\n",
       "      <td>Male</td>\n",
       "      <td>1</td>\n",
       "    </tr>\n",
       "    <tr>\n",
       "      <th>3</th>\n",
       "      <td>0</td>\n",
       "      <td>14.4</td>\n",
       "      <td>6.1</td>\n",
       "      <td>0</td>\n",
       "      <td>1</td>\n",
       "      <td>1</td>\n",
       "      <td>1</td>\n",
       "      <td>Male</td>\n",
       "      <td>1</td>\n",
       "    </tr>\n",
       "    <tr>\n",
       "      <th>4</th>\n",
       "      <td>1</td>\n",
       "      <td>13.5</td>\n",
       "      <td>5.9</td>\n",
       "      <td>0</td>\n",
       "      <td>0</td>\n",
       "      <td>0</td>\n",
       "      <td>0</td>\n",
       "      <td>Female</td>\n",
       "      <td>0</td>\n",
       "    </tr>\n",
       "  </tbody>\n",
       "</table>\n",
       "</div>"
      ],
      "text/plain": [
       "   long_hair  forehead_width_cm  forehead_height_cm  nose_wide  nose_long  \\\n",
       "0          1               11.8                 6.1          1          0   \n",
       "1          0               14.0                 5.4          0          0   \n",
       "2          0               11.8                 6.3          1          1   \n",
       "3          0               14.4                 6.1          0          1   \n",
       "4          1               13.5                 5.9          0          0   \n",
       "\n",
       "   lips_thin  distance_nose_to_lip_long  gender  male  \n",
       "0          1                          1    Male     1  \n",
       "1          1                          0  Female     0  \n",
       "2          1                          1    Male     1  \n",
       "3          1                          1    Male     1  \n",
       "4          0                          0  Female     0  "
      ]
     },
     "execution_count": 154,
     "metadata": {},
     "output_type": "execute_result"
    }
   ],
   "source": [
    "gender['male'] = gender['gender'].apply(lambda x: 1 if x == 'Male' else 0)\n",
    "gender.head()"
   ]
  },
  {
   "cell_type": "code",
   "execution_count": 80,
   "id": "cbe1583b",
   "metadata": {},
   "outputs": [],
   "source": [
    "y = gender[['male']]"
   ]
  },
  {
   "cell_type": "code",
   "execution_count": 81,
   "id": "67e849df",
   "metadata": {},
   "outputs": [
    {
     "name": "stderr",
     "output_type": "stream",
     "text": [
      "/Users/haydenjohnson00/opt/anaconda3/lib/python3.9/site-packages/sklearn/neural_network/_multilayer_perceptron.py:1109: DataConversionWarning: A column-vector y was passed when a 1d array was expected. Please change the shape of y to (n_samples, ), for example using ravel().\n",
      "  y = column_or_1d(y, warn=True)\n"
     ]
    },
    {
     "data": {
      "text/plain": [
       "MLPClassifier(hidden_layer_sizes=(10,), max_iter=1000, random_state=42)"
      ]
     },
     "execution_count": 81,
     "metadata": {},
     "output_type": "execute_result"
    }
   ],
   "source": [
    "\n",
    "# Standardize features\n",
    "scaler = StandardScaler()\n",
    "X = scaler.fit_transform(X)\n",
    "\n",
    "# Split the data into training and testing sets\n",
    "X_train, X_test, y_train, y_test = train_test_split(X, y, test_size=0.2, random_state=42)\n",
    "\n",
    "# Initialize MLPClassifier\n",
    "clf = MLPClassifier(hidden_layer_sizes=(10,), max_iter=1000, random_state=42)\n",
    "\n",
    "\n",
    "clf.fit(X_train,y_train)\n",
    "\n",
    "#Locally Save ML Model"
   ]
  },
  {
   "cell_type": "code",
   "execution_count": 83,
   "id": "99d8f852",
   "metadata": {},
   "outputs": [
    {
     "data": {
      "text/plain": [
       "['PP.sav']"
      ]
     },
     "execution_count": 83,
     "metadata": {},
     "output_type": "execute_result"
    }
   ],
   "source": [
    "joblib.dump(clf, \"NN.sav\") \n",
    "\n",
    "joblib.dump(scaler, \"PP.sav\")"
   ]
  },
  {
   "cell_type": "code",
   "execution_count": 84,
   "id": "4ebb184f",
   "metadata": {},
   "outputs": [],
   "source": [
    "bucket = client.get_bucket(\"webscrapingolf\")\n",
    "blob = bucket.blob(\"gender/nueral_net.sav\")\n",
    "blob.upload_from_filename(\"NN.sav\")\n",
    "\n",
    "bucket = client.get_bucket(\"webscrapingolf\")\n",
    "blob = bucket.blob(\"gender/preprocess.sav\")\n",
    "blob.upload_from_filename(\"PP.sav\")"
   ]
  },
  {
   "cell_type": "code",
   "execution_count": 155,
   "id": "d3df1e64",
   "metadata": {},
   "outputs": [],
   "source": [
    "def load_scikit_model(file_name):\n",
    "    bucket_name = \"webscrapingolf\"\n",
    "    source_blob = \"gender/\" + file_name\n",
    "    \n",
    "    os.environ[\"GOOGLE_APPLICATION_CREDENTIALS\"] = \"annreturn-f1d9154873aa.json\"\n",
    "    client = storage.Client()\n",
    "    \n",
    "    bucket = client.get_bucket(bucket_name)\n",
    "    blob = bucket.blob(source_blob)\n",
    "    \n",
    "    model_data = blob.download_as_bytes()\n",
    "    \n",
    "    model = joblib.load(BytesIO(model_data))\n",
    "    return(model)\n"
   ]
  },
  {
   "cell_type": "code",
   "execution_count": null,
   "id": "2e892575",
   "metadata": {},
   "outputs": [],
   "source": [
    "model = load_scikit_model(\"nueral_net.sav\")\n",
    "preproc = load_scikit_model(\"preprocess.sav\")"
   ]
  },
  {
   "cell_type": "code",
   "execution_count": 200,
   "id": "baf64e76",
   "metadata": {},
   "outputs": [],
   "source": [
    "def gender_request(request):\n",
    "    try:\n",
    "        model = load_scikit_model(\"nueral_net.sav\")\n",
    "        preproc = load_scikit_model(\"preprocess.sav\")\n",
    "        #print(request.get_data().decode())\n",
    "        ### Format request into these parameters\n",
    "\n",
    "        query_string = request.get_data().decode()\n",
    "        dictionary = parse_qs(query_string)\n",
    "        dictionary = {k: int(v[0]) if v[0].isdigit() else float(v[0]) for k, v in dictionary.items()}\n",
    "        for key, value in dictionary.items():\n",
    "            globals()[key] = value\n",
    "\n",
    "\n",
    "        X = preproc.transform([[long_hair,forehead_width_cm,forehead_height_cm,\n",
    "                        nose_wide, nose_long, lips_thin, distance_nose_to_lip_long]])\n",
    "\n",
    "        prediction = model.predict(X)[0]\n",
    "        print(prediction)\n",
    "        if prediction == 1:\n",
    "            gender = 'male'\n",
    "        else:\n",
    "            gender = 'female'\n",
    "        probability = str(round(model.predict_proba(X)[0][1]*100,2)) + \"%\"\n",
    "\n",
    "        return({\"status\" : 200,\n",
    "               \"prediction\" : gender,\n",
    "               \"prob_of_male\" : probability})\n",
    "    except Exception as e:\n",
    "        return({\"status\" : 501, \"error\": str(e)})"
   ]
  },
  {
   "cell_type": "code",
   "execution_count": 180,
   "id": "8824af5e",
   "metadata": {},
   "outputs": [],
   "source": [
    "urlSex = 'https://us-west2-annreturn.cloudfunctions.net/indetify_gender'"
   ]
  },
  {
   "cell_type": "code",
   "execution_count": 181,
   "id": "c79f1362",
   "metadata": {},
   "outputs": [],
   "source": [
    "dic = {\"long_hair\": 1, \"forehead_width_cm\" : 13.5, \n",
    "       \"forehead_height_cm\" : 5.9, \"nose_wide\" : 0, \n",
    "       \"nose_long\" : 0, \"lips_thin\" : 0, \n",
    "       \"distance_nose_to_lip_long\" : 0}"
   ]
  },
  {
   "cell_type": "code",
   "execution_count": 216,
   "id": "a7287530",
   "metadata": {},
   "outputs": [
    {
     "name": "stdout",
     "output_type": "stream",
     "text": [
      "{\"Prediction\":\"female\",\"Probability\":\"0.07%\",\"status\":200}\n",
      "\n"
     ]
    }
   ],
   "source": [
    "r = requests.post(urlSex, dic)\n",
    "print(r.text)\n",
    "#r.json()\n",
    "#total = json_data[\"total\"]\n",
    "\n",
    "#print(total)"
   ]
  },
  {
   "cell_type": "markdown",
   "id": "2786f9cf",
   "metadata": {
    "id": "2786f9cf"
   },
   "source": [
    "## 3.b.) Make a user-friendly input page that takes the inputs to your ML model and displays the output. Post to a sharable webpage. Link below"
   ]
  },
  {
   "cell_type": "code",
   "execution_count": 4,
   "id": "f3aa3b62",
   "metadata": {},
   "outputs": [],
   "source": [
    "from ipywidgets import interact, interactive, fixed\n",
    "import ipywidgets as widgets"
   ]
  },
  {
   "cell_type": "code",
   "execution_count": 5,
   "id": "a266a3bb",
   "metadata": {},
   "outputs": [],
   "source": [
    "def gender_request_widget(btn):\n",
    "    long_hair = long_hair_input.value\n",
    "    forehead_width_cm = forehead_width_cm_input.value\n",
    "    forehead_height_cm = forehead_height_cm_input.value\n",
    "    nose_wide = nose_wide_input.value\n",
    "    nose_long = nose_long_input.value\n",
    "    lips_thin = lips_thin_input.value\n",
    "    distance_nose_to_lip_long = distance_nose_to_lip_long_input.value\n",
    "\n",
    "    dic = {\n",
    "        \"long_hair\": long_hair,\n",
    "        \"forehead_width_cm\": forehead_width_cm,\n",
    "        \"forehead_height_cm\": forehead_height_cm,\n",
    "        \"nose_wide\": nose_wide,\n",
    "        \"nose_long\": nose_long,\n",
    "        \"lips_thin\": lips_thin,\n",
    "        \"distance_nose_to_lip_long\": distance_nose_to_lip_long\n",
    "    }\n",
    "\n",
    "    urlSex = 'https://us-west2-annreturn.cloudfunctions.net/indetify_gender'\n",
    "    r = requests.post(urlSex, dic)\n",
    "    print(r.text)"
   ]
  },
  {
   "cell_type": "code",
   "execution_count": 7,
   "id": "fb531561",
   "metadata": {},
   "outputs": [
    {
     "data": {
      "application/vnd.jupyter.widget-view+json": {
       "model_id": "a8563efdb13040f1a225eff317a0affd",
       "version_major": 2,
       "version_minor": 0
      },
      "text/plain": [
       "IntText(value=0, description='Long Hair:')"
      ]
     },
     "metadata": {},
     "output_type": "display_data"
    },
    {
     "data": {
      "application/vnd.jupyter.widget-view+json": {
       "model_id": "cada6ad52afd4c44a55fa08e21145dd0",
       "version_major": 2,
       "version_minor": 0
      },
      "text/plain": [
       "FloatText(value=0.0, description='Forehead Width: ')"
      ]
     },
     "metadata": {},
     "output_type": "display_data"
    },
    {
     "data": {
      "application/vnd.jupyter.widget-view+json": {
       "model_id": "1081725873b9445e8d9bb3ff0a5d6112",
       "version_major": 2,
       "version_minor": 0
      },
      "text/plain": [
       "FloatText(value=0.0, description='Forehead Height: ')"
      ]
     },
     "metadata": {},
     "output_type": "display_data"
    },
    {
     "data": {
      "application/vnd.jupyter.widget-view+json": {
       "model_id": "4c496c41fd0c4c2bbd62395dc8c8762e",
       "version_major": 2,
       "version_minor": 0
      },
      "text/plain": [
       "IntText(value=0, description='Nose Wide:')"
      ]
     },
     "metadata": {},
     "output_type": "display_data"
    },
    {
     "data": {
      "application/vnd.jupyter.widget-view+json": {
       "model_id": "5812ded23a4c4c35a908ef210ecf5d78",
       "version_major": 2,
       "version_minor": 0
      },
      "text/plain": [
       "IntText(value=0, description='Nose Long:')"
      ]
     },
     "metadata": {},
     "output_type": "display_data"
    },
    {
     "data": {
      "application/vnd.jupyter.widget-view+json": {
       "model_id": "5aaf1e9d73f445ad8716bc874c8adc50",
       "version_major": 2,
       "version_minor": 0
      },
      "text/plain": [
       "IntText(value=0, description='Lips Thin:')"
      ]
     },
     "metadata": {},
     "output_type": "display_data"
    },
    {
     "data": {
      "application/vnd.jupyter.widget-view+json": {
       "model_id": "36705ed16aa94b9d99d2ea3dbffe2d99",
       "version_major": 2,
       "version_minor": 0
      },
      "text/plain": [
       "IntText(value=0, description='Distance Nose:')"
      ]
     },
     "metadata": {},
     "output_type": "display_data"
    },
    {
     "data": {
      "application/vnd.jupyter.widget-view+json": {
       "model_id": "c2d953f0cb474e1694c57733b0b12623",
       "version_major": 2,
       "version_minor": 0
      },
      "text/plain": [
       "Button(description='Submit', style=ButtonStyle())"
      ]
     },
     "metadata": {},
     "output_type": "display_data"
    },
    {
     "name": "stdout",
     "output_type": "stream",
     "text": [
      "{\"Prediction\":\"male\",\"Probability\":\"99.65%\",\"status\":200}\n",
      "\n",
      "{\"Prediction\":\"male\",\"Probability\":\"99.65%\",\"status\":200}\n",
      "\n",
      "{\"Prediction\":\"male\",\"Probability\":\"99.89%\",\"status\":200}\n",
      "\n"
     ]
    }
   ],
   "source": [
    "long_hair_input = widgets.IntText(description=\"Long Hair:\")\n",
    "forehead_width_cm_input = widgets.FloatText(description=\"Forehead Width: \")\n",
    "forehead_height_cm_input = widgets.FloatText(description=\"Forehead Height: \")\n",
    "nose_wide_input = widgets.IntText(description=\"Nose Wide:\")\n",
    "nose_long_input = widgets.IntText(description=\"Nose Long:\")\n",
    "lips_thin_input = widgets.IntText(description=\"Lips Thin:\")\n",
    "distance_nose_to_lip_long_input = widgets.IntText(description=\"Distance Nose:\")\n",
    "submit_button = widgets.Button(description=\"Submit\")\n",
    "\n",
    "display(long_hair_input)\n",
    "display(forehead_width_cm_input)\n",
    "display(forehead_height_cm_input)\n",
    "display(nose_wide_input)\n",
    "display(nose_long_input)\n",
    "display(lips_thin_input)\n",
    "display(distance_nose_to_lip_long_input)\n",
    "display(submit_button)\n",
    "\n",
    "submit_button.on_click(gender_request_widget)"
   ]
  },
  {
   "cell_type": "code",
   "execution_count": null,
   "id": "d6f171a8",
   "metadata": {
    "id": "d6f171a8"
   },
   "outputs": [],
   "source": []
  },
  {
   "cell_type": "markdown",
   "id": "6bdb4720",
   "metadata": {
    "id": "6bdb4720"
   },
   "source": [
    "## 3.c.) Think of a company that would use the ML app you just built. What employees could use this app what would they use it for? Write a short paragraph."
   ]
  },
  {
   "cell_type": "markdown",
   "id": "c70bc233",
   "metadata": {
    "id": "2486af79"
   },
   "source": [
    "They could use my ML app in order to identify a person who is robbing a convenient store. If they want to be sure of who they are tracking, they could have the proper sex. Or, if someone enters a store, you could target them with ads or promotions based on their sex. A computer could record the person who enters the store, tracks the person and what they check out, and then send them promotions for what they have bought and other items that may pertain to their sex."
   ]
  },
  {
   "cell_type": "code",
   "execution_count": null,
   "id": "807ad8d9",
   "metadata": {},
   "outputs": [],
   "source": []
  }
 ],
 "metadata": {
  "colab": {
   "provenance": []
  },
  "kernelspec": {
   "display_name": "Python 3 (ipykernel)",
   "language": "python",
   "name": "python3"
  },
  "language_info": {
   "codemirror_mode": {
    "name": "ipython",
    "version": 3
   },
   "file_extension": ".py",
   "mimetype": "text/x-python",
   "name": "python",
   "nbconvert_exporter": "python",
   "pygments_lexer": "ipython3",
   "version": "3.9.12"
  }
 },
 "nbformat": 4,
 "nbformat_minor": 5
}
