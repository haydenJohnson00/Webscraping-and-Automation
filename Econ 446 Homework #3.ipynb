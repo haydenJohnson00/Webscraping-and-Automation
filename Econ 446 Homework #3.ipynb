{
 "cells": [
  {
   "cell_type": "code",
   "execution_count": 90,
   "id": "048d85f1",
   "metadata": {
    "scrolled": false
   },
   "outputs": [],
   "source": [
    "from web3 import Web3\n",
    "import json"
   ]
  },
  {
   "cell_type": "markdown",
   "id": "4d0e5d7b",
   "metadata": {},
   "source": [
    "# Connect to Ganache"
   ]
  },
  {
   "cell_type": "code",
   "execution_count": 91,
   "id": "e58ea43e",
   "metadata": {},
   "outputs": [],
   "source": [
    "node_provider = \"HTTP://127.0.0.1:7545\"\n",
    "PRIVATE_KEY_1 = \"0x1ab979276a33d47ef9ae2447709d4c4414b801d5b09570a09c74cf24e13ffeae\"\n",
    "PRIVATE_KEY_2 = \"0xaf02c675f9fca87299d61efc96fdf2dd4e5539ae8a1a42bd72e5974a20abc02d\"\n",
    "ADDRESS_1 = \"0x11a494A24160F0d0B3a08407442e1Cd46143AedB\"\n",
    "ADDRESS_2 = \"0x36281aA65E6F31d2Fd573495E06839Ed8fCbb4d5\""
   ]
  },
  {
   "cell_type": "code",
   "execution_count": 92,
   "id": "cad4f7c1",
   "metadata": {},
   "outputs": [],
   "source": [
    "web3_connection = Web3(Web3.HTTPProvider(node_provider))"
   ]
  },
  {
   "cell_type": "markdown",
   "id": "c85982d4",
   "metadata": {},
   "source": [
    "# Deploy a smart contract"
   ]
  },
  {
   "cell_type": "code",
   "execution_count": 93,
   "id": "eebed772",
   "metadata": {},
   "outputs": [],
   "source": [
    "contract_abi = '[ { \"inputs\": [ { \"internalType\": \"uint256\", \"name\": \"_threshold\", \"type\": \"uint256\" }, { \"internalType\": \"address payable\", \"name\": \"_insurer\", \"type\": \"address\" } ], \"stateMutability\": \"payable\", \"type\": \"constructor\" }, { \"inputs\": [ { \"internalType\": \"address payable\", \"name\": \"_insured\", \"type\": \"address\" } ], \"name\": \"buy_insurance\", \"outputs\": [], \"stateMutability\": \"payable\", \"type\": \"function\" }, { \"inputs\": [], \"name\": \"currState\", \"outputs\": [ { \"internalType\": \"enum inflation_insurance.State\", \"name\": \"\", \"type\": \"uint8\" } ], \"stateMutability\": \"view\", \"type\": \"function\" }, { \"inputs\": [ { \"internalType\": \"uint256\", \"name\": \"_inflationNumber\", \"type\": \"uint256\" } ], \"name\": \"inflation_reading\", \"outputs\": [ { \"internalType\": \"uint256\", \"name\": \"\", \"type\": \"uint256\" } ], \"stateMutability\": \"payable\", \"type\": \"function\" } ]'\n",
    "contract_bytecode = '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'\n",
    "\n"
   ]
  },
  {
   "cell_type": "code",
   "execution_count": 94,
   "id": "b2a36bcd",
   "metadata": {},
   "outputs": [],
   "source": [
    "contract_abi = json.loads(contract_abi)"
   ]
  },
  {
   "cell_type": "code",
   "execution_count": 95,
   "id": "e1f55ca3",
   "metadata": {},
   "outputs": [],
   "source": [
    "def get_nonce(ETH_address):\n",
    "    return(web3_connection.eth.get_transaction_count(ETH_address))\n",
    "\n",
    "def deploy_contract(threshold, amount_ETH, owner, signature):\n",
    "    inflation_insurance = web3_connection.eth.contract(abi=contract_abi, bytecode=contract_bytecode)\n",
    "    transaction_body = {\n",
    "        \"nonce\" : get_nonce(owner),\n",
    "        \"value\" : int(web3_connection.to_wei(amount_ETH, 'ether')),\n",
    "        \"gasPrice\": web3_connection.eth.gas_price\n",
    "    }\n",
    "    deployment = inflation_insurance.constructor(threshold, owner).build_transaction(transaction_body)\n",
    "    signed_transaction = web3_connection.eth.account.sign_transaction(deployment, signature)\n",
    "    result = web3_connection.eth.send_raw_transaction(signed_transaction.rawTransaction)\n",
    "    return(result)"
   ]
  },
  {
   "cell_type": "code",
   "execution_count": 96,
   "id": "5b600d59",
   "metadata": {},
   "outputs": [
    {
     "data": {
      "text/plain": [
       "HexBytes('0x86def3b5b9b0fe35f8bc85dc26037975abcd459b05a8a43940aa46d83beee16a')"
      ]
     },
     "execution_count": 96,
     "metadata": {},
     "output_type": "execute_result"
    }
   ],
   "source": [
    "deploy_contract(5, 1, ADDRESS_1, PRIVATE_KEY_1)"
   ]
  },
  {
   "cell_type": "code",
   "execution_count": 97,
   "id": "406cf4ab",
   "metadata": {},
   "outputs": [],
   "source": [
    "contract_address = '0x76f4FC37e492A33c57E31852BeA996973fB1D756'"
   ]
  },
  {
   "cell_type": "code",
   "execution_count": 85,
   "id": "bb042127",
   "metadata": {},
   "outputs": [],
   "source": [
    "def buy_policy(player, amount_ETH, signature):\n",
    "    contract = web3_connection.eth.contract(address = contract_address, abi=contract_abi)\n",
    "    transaction_body = {\n",
    "        'nonce' : get_nonce(player),\n",
    "        \"value\" : int(web3_connection.to_wei(amount_ETH, 'ether')),\n",
    "        \"gasPrice\": web3_connection.eth.gas_price\n",
    "    }\n",
    "    function_call = contract.functions.buy_insurance(player).build_transaction(transaction_body)\n",
    "    signed_transaction = web3_connection.eth.account.sign_transaction(function_call, signature)\n",
    "    result = web3_connection.eth.send_raw_transaction(signed_transaction.rawTransaction)\n",
    "    return(result)"
   ]
  },
  {
   "cell_type": "code",
   "execution_count": 86,
   "id": "70e9ac43",
   "metadata": {},
   "outputs": [
    {
     "data": {
      "text/plain": [
       "HexBytes('0xbf6c2cd353eed99bbaf38bc0259650dc3478081f6142f5d77a8a8856878cb85c')"
      ]
     },
     "execution_count": 86,
     "metadata": {},
     "output_type": "execute_result"
    }
   ],
   "source": [
    "buy_policy(ADDRESS_2,.5,PRIVATE_KEY_2)"
   ]
  },
  {
   "cell_type": "code",
   "execution_count": 87,
   "id": "9c1f4753",
   "metadata": {},
   "outputs": [],
   "source": [
    "def inflation_reading(player, inflation, signature):\n",
    "    contract = web3_connection.eth.contract(address = contract_address, abi=contract_abi)\n",
    "    transaction_body = {\n",
    "        'nonce' : get_nonce(player),\n",
    "        \"gasPrice\": web3_connection.eth.gas_price\n",
    "    }\n",
    "    function_call = contract.functions.inflation_reading(inflation).build_transaction(transaction_body)\n",
    "    signed_transaction = web3_connection.eth.account.sign_transaction(function_call, signature)\n",
    "    result = web3_connection.eth.send_raw_transaction(signed_transaction.rawTransaction)\n",
    "    return(result)"
   ]
  },
  {
   "cell_type": "code",
   "execution_count": 88,
   "id": "ed826230",
   "metadata": {},
   "outputs": [],
   "source": [
    "ADDRESS_3 = ADDRESS_2\n",
    "PRIVATE_KEY_3 = PRIVATE_KEY_2"
   ]
  },
  {
   "cell_type": "code",
   "execution_count": 89,
   "id": "246e051d",
   "metadata": {},
   "outputs": [
    {
     "data": {
      "text/plain": [
       "HexBytes('0x53db83f17f941a649eb57730cbfc13f4c306b10bbb7d09e613e6562c50a87c53')"
      ]
     },
     "execution_count": 89,
     "metadata": {},
     "output_type": "execute_result"
    }
   ],
   "source": [
    "inflation_reading(ADDRESS_3, 100,PRIVATE_KEY_3)"
   ]
  },
  {
   "cell_type": "markdown",
   "id": "0128833b",
   "metadata": {},
   "source": [
    "# Smart Contract Paragraph"
   ]
  },
  {
   "cell_type": "markdown",
   "id": "1a2db210",
   "metadata": {},
   "source": [
    "Smart contracts on the blockchain can revolutionize the agriculture industry by providing transparent and efficient mechanisms for establishing and enforcing agreements. These contracts are self-executing and automatically enforce the terms and conditions written into their code, thereby reducing the need for intermediaries and enhancing trust among stakeholders. In agriculture, smart contracts can be utilized in various ways. For instance, farmers can create contracts with buyers or distributors for the sale of their produce, specifying the quantity, quality, and price. Through the use of blockchain technology, these contracts can be securely stored, and the fulfillment of the agreement can be tracked in real-time. Additionally, smart contracts can facilitate the automation of processes such as supply chain management, ensuring that products are accurately traced from farm to fork, enhancing food safety and reducing the risk of fraud. Overall, smart contracts empower the agricultural sector by streamlining transactions, reducing costs, and fostering trust and transparency in the marketplace."
   ]
  },
  {
   "cell_type": "markdown",
   "id": "af3c6807",
   "metadata": {},
   "source": [
    "Demeter is a blockchain-based company providing transparency and traceability in agriculture. Their platform enables farmers, producers, and retailers to track products from planting to distribution, promoting sustainable practices, and improving food safety. Demeter uses blockchain technology and IoT devices to record data on product quality and conditions for optimized production processes."
   ]
  },
  {
   "cell_type": "code",
   "execution_count": null,
   "id": "0fbdb025",
   "metadata": {},
   "outputs": [],
   "source": []
  }
 ],
 "metadata": {
  "kernelspec": {
   "display_name": "Python 3 (ipykernel)",
   "language": "python",
   "name": "python3"
  },
  "language_info": {
   "codemirror_mode": {
    "name": "ipython",
    "version": 3
   },
   "file_extension": ".py",
   "mimetype": "text/x-python",
   "name": "python",
   "nbconvert_exporter": "python",
   "pygments_lexer": "ipython3",
   "version": "3.9.12"
  }
 },
 "nbformat": 4,
 "nbformat_minor": 5
}
